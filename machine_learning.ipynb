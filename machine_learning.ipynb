{
 "cells": [
  {
   "cell_type": "markdown",
   "metadata": {},
   "source": [
    "# What is \"Machine Learning\"?\n",
    "\n",
    "Machine learning is a field of study that gives the computer the ability to learn without being explicitly programmed. It is considered as a subfield of artificial intelligence and can be thought of as a means to build models of data. \n",
    "\n",
    "Machine learning helps us to understand data by building mathematical models. Let's say that we want to train a computer by feeding it with a given data set. Using this given data set we can predict the properties of a new dataset. For example, let's assume that we are training a computer by feeding it with 10000 images of cats and 10000 images of some other objects/data. We are going to convey the computer each time whether the image is of cat or something else. After the training session, now the computer should be able to recognize when a new image is shown or encountered if it is of a cat or not. All this is done with the help of algorithms.\n",
    "\n",
    "# Categories of machine learning\n",
    "\n",
    "* _Supervised learning_ : Models that are able to predict labels based on labeled training data. \n",
    "    * _Classification_: Models will predict labels as discrete categories(two or more).\n",
    "    * _Regression_: Models used to predict continuous lables. \n",
    "    \n",
    "* _Unsupervised learning_: Models have to identify patterns in the data that is unlabeled.\n",
    "    * _Clustering_: Division of elements into a number of groups/clusters such that elements of the same cluster are more                           similar to each other than to those from different clusters.   \n",
    "    * _Dimensionality reduction: Process of reducing the dimension of the feature set i.e., feature set could be a dataset or an                                  array of points."
   ]
  }
 ],
 "metadata": {
  "kernelspec": {
   "display_name": "Python 3",
   "language": "python",
   "name": "python3"
  },
  "language_info": {
   "codemirror_mode": {
    "name": "ipython",
    "version": 3
   },
   "file_extension": ".py",
   "mimetype": "text/x-python",
   "name": "python",
   "nbconvert_exporter": "python",
   "pygments_lexer": "ipython3",
   "version": "3.6.4"
  }
 },
 "nbformat": 4,
 "nbformat_minor": 2
}
