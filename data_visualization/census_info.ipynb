{
 "cells": [
  {
   "cell_type": "code",
   "execution_count": 1,
   "metadata": {
    "scrolled": true
   },
   "outputs": [],
   "source": [
    "%matplotlib inline\n",
    "import pandas as pd, numpy as np\n",
    "import matplotlib.pyplot as plt"
   ]
  },
  {
   "cell_type": "code",
   "execution_count": 2,
   "metadata": {},
   "outputs": [
    {
     "data": {
      "text/html": [
       "<div>\n",
       "<style scoped>\n",
       "    .dataframe tbody tr th:only-of-type {\n",
       "        vertical-align: middle;\n",
       "    }\n",
       "\n",
       "    .dataframe tbody tr th {\n",
       "        vertical-align: top;\n",
       "    }\n",
       "\n",
       "    .dataframe thead th {\n",
       "        text-align: right;\n",
       "    }\n",
       "</style>\n",
       "<table border=\"1\" class=\"dataframe\">\n",
       "  <thead>\n",
       "    <tr style=\"text-align: right;\">\n",
       "      <th></th>\n",
       "      <th>geo_id14</th>\n",
       "      <th>geo_name</th>\n",
       "      <th>city_state</th>\n",
       "      <th>median_rent_14</th>\n",
       "      <th>latitude</th>\n",
       "      <th>longitude</th>\n",
       "    </tr>\n",
       "  </thead>\n",
       "  <tbody>\n",
       "    <tr>\n",
       "      <th>0</th>\n",
       "      <td>10140</td>\n",
       "      <td>Aberdeen, WA Micro Area</td>\n",
       "      <td>Aberdeen, WA</td>\n",
       "      <td>626</td>\n",
       "      <td>46.975371</td>\n",
       "      <td>-123.815722</td>\n",
       "    </tr>\n",
       "    <tr>\n",
       "      <th>1</th>\n",
       "      <td>10180</td>\n",
       "      <td>Abilene, TX Metro Area</td>\n",
       "      <td>Abilene, TX</td>\n",
       "      <td>613</td>\n",
       "      <td>32.448736</td>\n",
       "      <td>-99.733144</td>\n",
       "    </tr>\n",
       "    <tr>\n",
       "      <th>2</th>\n",
       "      <td>10300</td>\n",
       "      <td>Adrian, MI Micro Area</td>\n",
       "      <td>Adrian, MI</td>\n",
       "      <td>556</td>\n",
       "      <td>41.897547</td>\n",
       "      <td>-84.037166</td>\n",
       "    </tr>\n",
       "    <tr>\n",
       "      <th>3</th>\n",
       "      <td>10420</td>\n",
       "      <td>Akron, OH Metro Area</td>\n",
       "      <td>Akron, OH</td>\n",
       "      <td>627</td>\n",
       "      <td>41.081445</td>\n",
       "      <td>-81.519005</td>\n",
       "    </tr>\n",
       "    <tr>\n",
       "      <th>4</th>\n",
       "      <td>10460</td>\n",
       "      <td>Alamogordo, NM Micro Area</td>\n",
       "      <td>Alamogordo, NM</td>\n",
       "      <td>700</td>\n",
       "      <td>32.899532</td>\n",
       "      <td>-105.960265</td>\n",
       "    </tr>\n",
       "  </tbody>\n",
       "</table>\n",
       "</div>"
      ],
      "text/plain": [
       "   geo_id14                   geo_name      city_state  median_rent_14  \\\n",
       "0     10140    Aberdeen, WA Micro Area    Aberdeen, WA             626   \n",
       "1     10180     Abilene, TX Metro Area     Abilene, TX             613   \n",
       "2     10300      Adrian, MI Micro Area      Adrian, MI             556   \n",
       "3     10420       Akron, OH Metro Area       Akron, OH             627   \n",
       "4     10460  Alamogordo, NM Micro Area  Alamogordo, NM             700   \n",
       "\n",
       "    latitude   longitude  \n",
       "0  46.975371 -123.815722  \n",
       "1  32.448736  -99.733144  \n",
       "2  41.897547  -84.037166  \n",
       "3  41.081445  -81.519005  \n",
       "4  32.899532 -105.960265  "
      ]
     },
     "execution_count": 2,
     "metadata": {},
     "output_type": "execute_result"
    }
   ],
   "source": [
    "# Load the rent data belonging to 2014\n",
    "rent_14 = pd.read_csv(\"C://Users//nature//Desktop//datascience_miniprojects//census_rent//rent_latlong.csv\")\n",
    "rent_14 = rent_14.rename(columns={\"geo_id2\":\"geo_id14\", \n",
    "                                  \"msa_name\":\"geo_name\",\n",
    "                                  \"median_contract_rent\":\"median_rent_14\"})\n",
    "rent_14 = rent_14[['geo_id14', 'geo_name', 'city_state', 'median_rent_14', 'latitude', 'longitude']]\n",
    "rent_14.head()"
   ]
  },
  {
   "cell_type": "code",
   "execution_count": 3,
   "metadata": {},
   "outputs": [
    {
     "data": {
      "text/html": [
       "<div>\n",
       "<style scoped>\n",
       "    .dataframe tbody tr th:only-of-type {\n",
       "        vertical-align: middle;\n",
       "    }\n",
       "\n",
       "    .dataframe tbody tr th {\n",
       "        vertical-align: top;\n",
       "    }\n",
       "\n",
       "    .dataframe thead th {\n",
       "        text-align: right;\n",
       "    }\n",
       "</style>\n",
       "<table border=\"1\" class=\"dataframe\">\n",
       "  <thead>\n",
       "    <tr style=\"text-align: right;\">\n",
       "      <th></th>\n",
       "      <th>geo_id10</th>\n",
       "      <th>median_rent_10</th>\n",
       "    </tr>\n",
       "  </thead>\n",
       "  <tbody>\n",
       "    <tr>\n",
       "      <th>0</th>\n",
       "      <td>10140</td>\n",
       "      <td>562</td>\n",
       "    </tr>\n",
       "    <tr>\n",
       "      <th>1</th>\n",
       "      <td>10180</td>\n",
       "      <td>554</td>\n",
       "    </tr>\n",
       "    <tr>\n",
       "      <th>2</th>\n",
       "      <td>10300</td>\n",
       "      <td>537</td>\n",
       "    </tr>\n",
       "    <tr>\n",
       "      <th>3</th>\n",
       "      <td>10420</td>\n",
       "      <td>579</td>\n",
       "    </tr>\n",
       "    <tr>\n",
       "      <th>4</th>\n",
       "      <td>10500</td>\n",
       "      <td>477</td>\n",
       "    </tr>\n",
       "  </tbody>\n",
       "</table>\n",
       "</div>"
      ],
      "text/plain": [
       "   geo_id10  median_rent_10\n",
       "0     10140             562\n",
       "1     10180             554\n",
       "2     10300             537\n",
       "3     10420             579\n",
       "4     10500             477"
      ]
     },
     "execution_count": 3,
     "metadata": {},
     "output_type": "execute_result"
    }
   ],
   "source": [
    "# Load the 2010 rent data \n",
    "rent_10 = pd.read_csv(\"C://Users//nature//Desktop//datascience_miniprojects//census_rent//ACS_10_1YR_B25058.csv\")\n",
    "rent_10 = rent_10.rename(columns={\"GEO.id\":\"geo_id\",\n",
    "                                  \"GEO.id2\":\"geo_id10\",\n",
    "                                  \"GEO.display-label\":\"geo_name\",\n",
    "                                  \"HD01_VD01\":\"median_rent_10\",\n",
    "                                  \"HD02_VD01\":\"margin_error\"})\n",
    "rent_10 = rent_10[[\"geo_id10\", \"median_rent_10\"]]\n",
    "rent_10.head()"
   ]
  },
  {
   "cell_type": "markdown",
   "metadata": {},
   "source": [
    "# Combine the rent data of 2014 and 2010\n",
    "\n",
    "There are some changes that we can see in the datasets of 2014 and 2010 in terms of area names and codes. With the help of dictionary, map the changes that's visible from 2014 to 2010 codes."
   ]
  },
  {
   "cell_type": "code",
   "execution_count": 4,
   "metadata": {},
   "outputs": [],
   "source": [
    "codes_14_10 = {\n",
    "    14010:14060, #bloomington il\n",
    "    15680:30500, #lexington park md\n",
    "    16060:32060, #marion il\n",
    "    17200:30100, #lebanon nh\n",
    "    25840:37820, #pendleton\n",
    "    26090:26100, #holland\n",
    "    29200:29140, #lafayette\n",
    "    38240:43860, #pinehurst\n",
    "    41400:20620, #salem oh\n",
    "    48260:44600, #weirton\n",
    "    49220:32270, #wisconsin rapids\n",
    "    31080:31100, #los angeles\n",
    "    42200:42060, #santa barbara\n",
    "    46520:26180, #honolulu\n",
    "    48260:44600} #steubenville\n",
    "\n",
    "rent_14[\"geo_id10\"] = rent_14[\"geo_id14\"].map(lambda x: codes_14_10[x] if x in codes_14_10.keys() else x)"
   ]
  },
  {
   "cell_type": "code",
   "execution_count": 5,
   "metadata": {},
   "outputs": [
    {
     "data": {
      "text/html": [
       "<div>\n",
       "<style scoped>\n",
       "    .dataframe tbody tr th:only-of-type {\n",
       "        vertical-align: middle;\n",
       "    }\n",
       "\n",
       "    .dataframe tbody tr th {\n",
       "        vertical-align: top;\n",
       "    }\n",
       "\n",
       "    .dataframe thead th {\n",
       "        text-align: right;\n",
       "    }\n",
       "</style>\n",
       "<table border=\"1\" class=\"dataframe\">\n",
       "  <thead>\n",
       "    <tr style=\"text-align: right;\">\n",
       "      <th></th>\n",
       "      <th>geo_id14</th>\n",
       "      <th>geo_name</th>\n",
       "      <th>city_state</th>\n",
       "      <th>median_rent_14</th>\n",
       "      <th>latitude</th>\n",
       "      <th>longitude</th>\n",
       "      <th>geo_id10</th>\n",
       "      <th>median_rent_10</th>\n",
       "    </tr>\n",
       "  </thead>\n",
       "  <tbody>\n",
       "    <tr>\n",
       "      <th>0</th>\n",
       "      <td>10140</td>\n",
       "      <td>Aberdeen, WA Micro Area</td>\n",
       "      <td>Aberdeen, WA</td>\n",
       "      <td>626</td>\n",
       "      <td>46.975371</td>\n",
       "      <td>-123.815722</td>\n",
       "      <td>10140</td>\n",
       "      <td>562</td>\n",
       "    </tr>\n",
       "    <tr>\n",
       "      <th>1</th>\n",
       "      <td>10180</td>\n",
       "      <td>Abilene, TX Metro Area</td>\n",
       "      <td>Abilene, TX</td>\n",
       "      <td>613</td>\n",
       "      <td>32.448736</td>\n",
       "      <td>-99.733144</td>\n",
       "      <td>10180</td>\n",
       "      <td>554</td>\n",
       "    </tr>\n",
       "    <tr>\n",
       "      <th>2</th>\n",
       "      <td>10300</td>\n",
       "      <td>Adrian, MI Micro Area</td>\n",
       "      <td>Adrian, MI</td>\n",
       "      <td>556</td>\n",
       "      <td>41.897547</td>\n",
       "      <td>-84.037166</td>\n",
       "      <td>10300</td>\n",
       "      <td>537</td>\n",
       "    </tr>\n",
       "    <tr>\n",
       "      <th>3</th>\n",
       "      <td>10420</td>\n",
       "      <td>Akron, OH Metro Area</td>\n",
       "      <td>Akron, OH</td>\n",
       "      <td>627</td>\n",
       "      <td>41.081445</td>\n",
       "      <td>-81.519005</td>\n",
       "      <td>10420</td>\n",
       "      <td>579</td>\n",
       "    </tr>\n",
       "    <tr>\n",
       "      <th>4</th>\n",
       "      <td>10500</td>\n",
       "      <td>Albany, GA Metro Area</td>\n",
       "      <td>Albany, GA</td>\n",
       "      <td>480</td>\n",
       "      <td>31.578507</td>\n",
       "      <td>-84.155741</td>\n",
       "      <td>10500</td>\n",
       "      <td>477</td>\n",
       "    </tr>\n",
       "  </tbody>\n",
       "</table>\n",
       "</div>"
      ],
      "text/plain": [
       "   geo_id14                 geo_name    city_state  median_rent_14   latitude  \\\n",
       "0     10140  Aberdeen, WA Micro Area  Aberdeen, WA             626  46.975371   \n",
       "1     10180   Abilene, TX Metro Area   Abilene, TX             613  32.448736   \n",
       "2     10300    Adrian, MI Micro Area    Adrian, MI             556  41.897547   \n",
       "3     10420     Akron, OH Metro Area     Akron, OH             627  41.081445   \n",
       "4     10500    Albany, GA Metro Area    Albany, GA             480  31.578507   \n",
       "\n",
       "    longitude  geo_id10  median_rent_10  \n",
       "0 -123.815722     10140             562  \n",
       "1  -99.733144     10180             554  \n",
       "2  -84.037166     10300             537  \n",
       "3  -81.519005     10420             579  \n",
       "4  -84.155741     10500             477  "
      ]
     },
     "execution_count": 5,
     "metadata": {},
     "output_type": "execute_result"
    }
   ],
   "source": [
    "rent = pd.merge(rent_14, rent_10, on=\"geo_id10\")\n",
    "rent.head()"
   ]
  },
  {
   "cell_type": "code",
   "execution_count": 6,
   "metadata": {},
   "outputs": [
    {
     "data": {
      "text/html": [
       "<div>\n",
       "<style scoped>\n",
       "    .dataframe tbody tr th:only-of-type {\n",
       "        vertical-align: middle;\n",
       "    }\n",
       "\n",
       "    .dataframe tbody tr th {\n",
       "        vertical-align: top;\n",
       "    }\n",
       "\n",
       "    .dataframe thead th {\n",
       "        text-align: right;\n",
       "    }\n",
       "</style>\n",
       "<table border=\"1\" class=\"dataframe\">\n",
       "  <thead>\n",
       "    <tr style=\"text-align: right;\">\n",
       "      <th></th>\n",
       "      <th>geo_name</th>\n",
       "      <th>rent_change_pct</th>\n",
       "    </tr>\n",
       "  </thead>\n",
       "  <tbody>\n",
       "    <tr>\n",
       "      <th>414</th>\n",
       "      <td>Seneca, SC Micro Area</td>\n",
       "      <td>-14.417745</td>\n",
       "    </tr>\n",
       "    <tr>\n",
       "      <th>413</th>\n",
       "      <td>Sebring, FL Metro Area</td>\n",
       "      <td>-11.992945</td>\n",
       "    </tr>\n",
       "    <tr>\n",
       "      <th>69</th>\n",
       "      <td>Carson City, NV Metro Area</td>\n",
       "      <td>-9.015257</td>\n",
       "    </tr>\n",
       "    <tr>\n",
       "      <th>464</th>\n",
       "      <td>Valdosta, GA Metro Area</td>\n",
       "      <td>-7.992895</td>\n",
       "    </tr>\n",
       "    <tr>\n",
       "      <th>442</th>\n",
       "      <td>Talladega-Sylacauga, AL Micro Area</td>\n",
       "      <td>-7.049608</td>\n",
       "    </tr>\n",
       "  </tbody>\n",
       "</table>\n",
       "</div>"
      ],
      "text/plain": [
       "                               geo_name  rent_change_pct\n",
       "414               Seneca, SC Micro Area       -14.417745\n",
       "413              Sebring, FL Metro Area       -11.992945\n",
       "69           Carson City, NV Metro Area        -9.015257\n",
       "464             Valdosta, GA Metro Area        -7.992895\n",
       "442  Talladega-Sylacauga, AL Micro Area        -7.049608"
      ]
     },
     "execution_count": 6,
     "metadata": {},
     "output_type": "execute_result"
    }
   ],
   "source": [
    "# Calculate the percentage of median rent that's changed between 2010 and 2014\n",
    "rent['rent_change_pct'] = (rent['median_rent_14'] / rent['median_rent_10']-1) * 100\n",
    "rent.sort_values(by='rent_change_pct')[['geo_name', 'rent_change_pct']].head()"
   ]
  },
  {
   "cell_type": "markdown",
   "metadata": {},
   "source": [
    "# Load the population data\n",
    "\n",
    "The dataset contains population values of 2010 from the census and also estimates of 2014 population"
   ]
  },
  {
   "cell_type": "code",
   "execution_count": 7,
   "metadata": {},
   "outputs": [
    {
     "data": {
      "text/html": [
       "<div>\n",
       "<style scoped>\n",
       "    .dataframe tbody tr th:only-of-type {\n",
       "        vertical-align: middle;\n",
       "    }\n",
       "\n",
       "    .dataframe tbody tr th {\n",
       "        vertical-align: top;\n",
       "    }\n",
       "\n",
       "    .dataframe thead th {\n",
       "        text-align: right;\n",
       "    }\n",
       "</style>\n",
       "<table border=\"1\" class=\"dataframe\">\n",
       "  <thead>\n",
       "    <tr style=\"text-align: right;\">\n",
       "      <th></th>\n",
       "      <th>geo_id14</th>\n",
       "      <th>pop_10</th>\n",
       "      <th>pop_14_est</th>\n",
       "    </tr>\n",
       "  </thead>\n",
       "  <tbody>\n",
       "    <tr>\n",
       "      <th>0</th>\n",
       "      <td>10100</td>\n",
       "      <td>40602</td>\n",
       "      <td>42391</td>\n",
       "    </tr>\n",
       "    <tr>\n",
       "      <th>1</th>\n",
       "      <td>10140</td>\n",
       "      <td>72797</td>\n",
       "      <td>70818</td>\n",
       "    </tr>\n",
       "    <tr>\n",
       "      <th>2</th>\n",
       "      <td>10180</td>\n",
       "      <td>165252</td>\n",
       "      <td>168592</td>\n",
       "    </tr>\n",
       "    <tr>\n",
       "      <th>3</th>\n",
       "      <td>10220</td>\n",
       "      <td>37492</td>\n",
       "      <td>38005</td>\n",
       "    </tr>\n",
       "    <tr>\n",
       "      <th>4</th>\n",
       "      <td>10300</td>\n",
       "      <td>99892</td>\n",
       "      <td>99047</td>\n",
       "    </tr>\n",
       "  </tbody>\n",
       "</table>\n",
       "</div>"
      ],
      "text/plain": [
       "   geo_id14  pop_10  pop_14_est\n",
       "0     10100   40602       42391\n",
       "1     10140   72797       70818\n",
       "2     10180  165252      168592\n",
       "3     10220   37492       38005\n",
       "4     10300   99892       99047"
      ]
     },
     "execution_count": 7,
     "metadata": {},
     "output_type": "execute_result"
    }
   ],
   "source": [
    "# Load the population data\n",
    "population = pd.read_csv('C://Users//nature//Desktop//datascience_miniprojects//census_rent//PEP_2014_PEPANNRES.csv', encoding='utf-8')\n",
    "population = population.rename(columns={'GEO.id2':'geo_id14', \n",
    "                              'rescen42010':'pop_10', \n",
    "                              'respop72014':'pop_14_est'})\n",
    "population = population[['geo_id14', 'pop_10', 'pop_14_est']]\n",
    "population.head()"
   ]
  },
  {
   "cell_type": "code",
   "execution_count": 8,
   "metadata": {},
   "outputs": [
    {
     "data": {
      "text/html": [
       "<div>\n",
       "<style scoped>\n",
       "    .dataframe tbody tr th:only-of-type {\n",
       "        vertical-align: middle;\n",
       "    }\n",
       "\n",
       "    .dataframe tbody tr th {\n",
       "        vertical-align: top;\n",
       "    }\n",
       "\n",
       "    .dataframe thead th {\n",
       "        text-align: right;\n",
       "    }\n",
       "</style>\n",
       "<table border=\"1\" class=\"dataframe\">\n",
       "  <thead>\n",
       "    <tr style=\"text-align: right;\">\n",
       "      <th></th>\n",
       "      <th>geo_id14</th>\n",
       "      <th>geo_name</th>\n",
       "      <th>city_state</th>\n",
       "      <th>median_rent_14</th>\n",
       "      <th>latitude</th>\n",
       "      <th>longitude</th>\n",
       "      <th>geo_id10</th>\n",
       "      <th>median_rent_10</th>\n",
       "      <th>rent_change_pct</th>\n",
       "      <th>pop_10</th>\n",
       "      <th>pop_14_est</th>\n",
       "    </tr>\n",
       "  </thead>\n",
       "  <tbody>\n",
       "    <tr>\n",
       "      <th>0</th>\n",
       "      <td>10140</td>\n",
       "      <td>Aberdeen, WA Micro Area</td>\n",
       "      <td>Aberdeen, WA</td>\n",
       "      <td>626</td>\n",
       "      <td>46.975371</td>\n",
       "      <td>-123.815722</td>\n",
       "      <td>10140</td>\n",
       "      <td>562</td>\n",
       "      <td>11.387900</td>\n",
       "      <td>72797</td>\n",
       "      <td>70818</td>\n",
       "    </tr>\n",
       "    <tr>\n",
       "      <th>1</th>\n",
       "      <td>10180</td>\n",
       "      <td>Abilene, TX Metro Area</td>\n",
       "      <td>Abilene, TX</td>\n",
       "      <td>613</td>\n",
       "      <td>32.448736</td>\n",
       "      <td>-99.733144</td>\n",
       "      <td>10180</td>\n",
       "      <td>554</td>\n",
       "      <td>10.649819</td>\n",
       "      <td>165252</td>\n",
       "      <td>168592</td>\n",
       "    </tr>\n",
       "    <tr>\n",
       "      <th>2</th>\n",
       "      <td>10300</td>\n",
       "      <td>Adrian, MI Micro Area</td>\n",
       "      <td>Adrian, MI</td>\n",
       "      <td>556</td>\n",
       "      <td>41.897547</td>\n",
       "      <td>-84.037166</td>\n",
       "      <td>10300</td>\n",
       "      <td>537</td>\n",
       "      <td>3.538175</td>\n",
       "      <td>99892</td>\n",
       "      <td>99047</td>\n",
       "    </tr>\n",
       "    <tr>\n",
       "      <th>3</th>\n",
       "      <td>10420</td>\n",
       "      <td>Akron, OH Metro Area</td>\n",
       "      <td>Akron, OH</td>\n",
       "      <td>627</td>\n",
       "      <td>41.081445</td>\n",
       "      <td>-81.519005</td>\n",
       "      <td>10420</td>\n",
       "      <td>579</td>\n",
       "      <td>8.290155</td>\n",
       "      <td>703200</td>\n",
       "      <td>703825</td>\n",
       "    </tr>\n",
       "    <tr>\n",
       "      <th>4</th>\n",
       "      <td>10500</td>\n",
       "      <td>Albany, GA Metro Area</td>\n",
       "      <td>Albany, GA</td>\n",
       "      <td>480</td>\n",
       "      <td>31.578507</td>\n",
       "      <td>-84.155741</td>\n",
       "      <td>10500</td>\n",
       "      <td>477</td>\n",
       "      <td>0.628931</td>\n",
       "      <td>157308</td>\n",
       "      <td>154925</td>\n",
       "    </tr>\n",
       "  </tbody>\n",
       "</table>\n",
       "</div>"
      ],
      "text/plain": [
       "   geo_id14                 geo_name    city_state  median_rent_14   latitude  \\\n",
       "0     10140  Aberdeen, WA Micro Area  Aberdeen, WA             626  46.975371   \n",
       "1     10180   Abilene, TX Metro Area   Abilene, TX             613  32.448736   \n",
       "2     10300    Adrian, MI Micro Area    Adrian, MI             556  41.897547   \n",
       "3     10420     Akron, OH Metro Area     Akron, OH             627  41.081445   \n",
       "4     10500    Albany, GA Metro Area    Albany, GA             480  31.578507   \n",
       "\n",
       "    longitude  geo_id10  median_rent_10  rent_change_pct  pop_10  pop_14_est  \n",
       "0 -123.815722     10140             562        11.387900   72797       70818  \n",
       "1  -99.733144     10180             554        10.649819  165252      168592  \n",
       "2  -84.037166     10300             537         3.538175   99892       99047  \n",
       "3  -81.519005     10420             579         8.290155  703200      703825  \n",
       "4  -84.155741     10500             477         0.628931  157308      154925  "
      ]
     },
     "execution_count": 8,
     "metadata": {},
     "output_type": "execute_result"
    }
   ],
   "source": [
    "# Now it's time to combine the rent data with population data \n",
    "df = pd.merge(rent, population, on=\"geo_id14\")\n",
    "df.head()"
   ]
  },
  {
   "cell_type": "code",
   "execution_count": 9,
   "metadata": {},
   "outputs": [
    {
     "data": {
      "text/html": [
       "<div>\n",
       "<style scoped>\n",
       "    .dataframe tbody tr th:only-of-type {\n",
       "        vertical-align: middle;\n",
       "    }\n",
       "\n",
       "    .dataframe tbody tr th {\n",
       "        vertical-align: top;\n",
       "    }\n",
       "\n",
       "    .dataframe thead th {\n",
       "        text-align: right;\n",
       "    }\n",
       "</style>\n",
       "<table border=\"1\" class=\"dataframe\">\n",
       "  <thead>\n",
       "    <tr style=\"text-align: right;\">\n",
       "      <th></th>\n",
       "      <th>geo_name</th>\n",
       "      <th>popl_change_pct</th>\n",
       "    </tr>\n",
       "  </thead>\n",
       "  <tbody>\n",
       "    <tr>\n",
       "      <th>348</th>\n",
       "      <td>Pine Bluff, AR Metro Area</td>\n",
       "      <td>-5.527738</td>\n",
       "    </tr>\n",
       "    <tr>\n",
       "      <th>142</th>\n",
       "      <td>Farmington, NM Metro Area</td>\n",
       "      <td>-4.812986</td>\n",
       "    </tr>\n",
       "    <tr>\n",
       "      <th>377</th>\n",
       "      <td>Roanoke Rapids, NC Micro Area</td>\n",
       "      <td>-4.371663</td>\n",
       "    </tr>\n",
       "    <tr>\n",
       "      <th>214</th>\n",
       "      <td>Johnstown, PA Metro Area</td>\n",
       "      <td>-4.139088</td>\n",
       "    </tr>\n",
       "    <tr>\n",
       "      <th>277</th>\n",
       "      <td>Martinsville, VA Micro Area</td>\n",
       "      <td>-3.207203</td>\n",
       "    </tr>\n",
       "  </tbody>\n",
       "</table>\n",
       "</div>"
      ],
      "text/plain": [
       "                          geo_name  popl_change_pct\n",
       "348      Pine Bluff, AR Metro Area        -5.527738\n",
       "142      Farmington, NM Metro Area        -4.812986\n",
       "377  Roanoke Rapids, NC Micro Area        -4.371663\n",
       "214       Johnstown, PA Metro Area        -4.139088\n",
       "277    Martinsville, VA Micro Area        -3.207203"
      ]
     },
     "execution_count": 9,
     "metadata": {},
     "output_type": "execute_result"
    }
   ],
   "source": [
    "# Calculate the percentage of population that's changed between 2010 and 2014\n",
    "df['popl_change_pct'] = (df['pop_14_est'] / df['pop_10'] - 1) * 100\n",
    "df.sort_values(by='popl_change_pct')[['geo_name', 'popl_change_pct']].head()"
   ]
  },
  {
   "cell_type": "markdown",
   "metadata": {},
   "source": [
    "# Time to plot data with scatter plots\n"
   ]
  },
  {
   "cell_type": "code",
   "execution_count": 10,
   "metadata": {},
   "outputs": [
    {
     "data": {
      "text/plain": [
       "<matplotlib.axes._subplots.AxesSubplot at 0x19ca941f9b0>"
      ]
     },
     "execution_count": 10,
     "metadata": {},
     "output_type": "execute_result"
    },
    {
     "data": {
      "image/png": "[encoded data removed]",
      "text/plain": [
       "<Figure size 432x288 with 1 Axes>"
      ]
     },
     "metadata": {
      "needs_background": "light"
     },
     "output_type": "display_data"
    }
   ],
   "source": [
    "# plotting for percent changes in rent and population \n",
    "df.plot(kind=\"scatter\", x=\"popl_change_pct\", y=\"rent_change_pct\")"
   ]
  },
  {
   "cell_type": "code",
   "execution_count": 11,
   "metadata": {},
   "outputs": [
    {
     "data": {
      "text/plain": [
       "<matplotlib.axes._subplots.AxesSubplot at 0x19cab4d7908>"
      ]
     },
     "execution_count": 11,
     "metadata": {},
     "output_type": "execute_result"
    },
    {
     "data": {
      "image/png": "[encoded data removed]",
      "text/plain": [
       "<Figure size 432x288 with 1 Axes>"
      ]
     },
     "metadata": {
      "needs_background": "light"
     },
     "output_type": "display_data"
    }
   ],
   "source": [
    "# Compare 2014 population to 2010 population\n",
    "df.plot(kind=\"scatter\", x=\"pop_10\", y=\"pop_14_est\")"
   ]
  },
  {
   "cell_type": "code",
   "execution_count": 12,
   "metadata": {},
   "outputs": [
    {
     "data": {
      "text/plain": [
       "<matplotlib.axes._subplots.AxesSubplot at 0x19cab5630f0>"
      ]
     },
     "execution_count": 12,
     "metadata": {},
     "output_type": "execute_result"
    },
    {
     "data": {
      "image/png": "[encoded data removed]",
      "text/plain": [
       "<Figure size 432x288 with 1 Axes>"
      ]
     },
     "metadata": {
      "needs_background": "light"
     },
     "output_type": "display_data"
    }
   ],
   "source": [
    "# Comparison between 2014 median rent and 2014 population\n",
    "df.plot(kind=\"scatter\", x=\"pop_14_est\", y=\"median_rent_14\", xlim=[0, 1000000])"
   ]
  },
  {
   "cell_type": "code",
   "execution_count": 13,
   "metadata": {},
   "outputs": [
    {
     "data": {
      "text/plain": [
       "<matplotlib.axes._subplots.AxesSubplot at 0x19cab5b6cf8>"
      ]
     },
     "execution_count": 13,
     "metadata": {},
     "output_type": "execute_result"
    },
    {
     "data": {
      "image/png": "[encoded data removed]",
      "text/plain": [
       "<Figure size 432x288 with 1 Axes>"
      ]
     },
     "metadata": {
      "needs_background": "light"
     },
     "output_type": "display_data"
    }
   ],
   "source": [
    "# Compare 2014's and 2010's median rents\n",
    "df.plot(kind='scatter', x='median_rent_10', y='median_rent_14')"
   ]
  },
  {
   "cell_type": "code",
   "execution_count": 14,
   "metadata": {},
   "outputs": [
    {
     "data": {
      "text/plain": [
       "<matplotlib.axes._subplots.AxesSubplot at 0x19cab61f438>"
      ]
     },
     "execution_count": 14,
     "metadata": {},
     "output_type": "execute_result"
    },
    {
     "data": {
      "image/png": "[encoded data removed]",
      "text/plain": [
       "<Figure size 432x288 with 1 Axes>"
      ]
     },
     "metadata": {
      "needs_background": "light"
     },
     "output_type": "display_data"
    }
   ],
   "source": [
    "# Compare median rent of 2010 to 2010 population\n",
    "df.plot(kind='scatter', x='pop_10', y='median_rent_10', xlim=[0, 1000000])"
   ]
  },
  {
   "cell_type": "code",
   "execution_count": 15,
   "metadata": {},
   "outputs": [
    {
     "data": {
      "text/plain": [
       "<matplotlib.axes._subplots.AxesSubplot at 0x19cab62a7b8>"
      ]
     },
     "execution_count": 15,
     "metadata": {},
     "output_type": "execute_result"
    },
    {
     "data": {
      "image/png": "[encoded data removed]",
      "text/plain": [
       "<Figure size 432x288 with 1 Axes>"
      ]
     },
     "metadata": {
      "needs_background": "light"
     },
     "output_type": "display_data"
    }
   ],
   "source": [
    "# Compare 2014 median rent to percent change in 2010-2014 rents\n",
    "df.plot(kind='scatter', x='rent_change_pct', y='median_rent_14')"
   ]
  }
 ],
 "metadata": {
  "kernelspec": {
   "display_name": "Python 3",
   "language": "python",
   "name": "python3"
  },
  "language_info": {
   "codemirror_mode": {
    "name": "ipython",
    "version": 3
   },
   "file_extension": ".py",
   "mimetype": "text/x-python",
   "name": "python",
   "nbconvert_exporter": "python",
   "pygments_lexer": "ipython3",
   "version": "3.6.4"
  }
 },
 "nbformat": 4,
 "nbformat_minor": 2
}
